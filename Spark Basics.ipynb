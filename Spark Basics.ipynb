{
 "cells": [
  {
   "cell_type": "markdown",
   "id": "8eb485c1",
   "metadata": {},
   "source": [
    "## Building the Spark Session\n",
    "\n",
    "-  Spark Sessions help us to create a spark application which helps us to communicate with the Driver (JVM)\n",
    "-  Python Code -> Spark Session -> Driver\n"
   ]
  },
  {
   "cell_type": "code",
   "execution_count": null,
   "id": "7b219d04",
   "metadata": {},
   "outputs": [
    {
     "name": "stdout",
     "output_type": "stream",
     "text": [
      "Spark Version :  3.5.5\n"
     ]
    }
   ],
   "source": [
    "# Importing the Spark Session module\n",
    "from pyspark.sql import SparkSession\n",
    "\n",
    "# Creating an application using the SparkSession\n",
    "\n",
    "sp = SparkSession.builder \\\n",
    "        .appName(\"Spark Basics\") \\\n",
    "        .getOrCreate()\n",
    "\n",
    "# Check if the application is created successfully by checking the spark appliaction version \n",
    "\n",
    "print('Spark Version : ',sp.version)\n"
   ]
  },
  {
   "cell_type": "markdown",
   "id": "a34087fb",
   "metadata": {},
   "source": [
    "## Locally Hosted Spark UI\n",
    "- When we create a spark session it locally hosts a web ui page at http://localhost:4040/ locaiton\n",
    "- We can check all the Job statuses, DAGs, Plans here\n",
    "\n",
    "## General Deployment methods of Spark Applications\n",
    "\n",
    "|Text|Use Case|Your Computer|Data Center Cloud|\n",
    "|---|---|---|---|\n",
    "|Local|Testing|Driver and Executor||\n",
    "|Client|Development|Driver|Executor|\n",
    "|Cluster|Prodcution||Driver and Executor|\n"
   ]
  },
  {
   "cell_type": "markdown",
   "id": "956a6c56",
   "metadata": {},
   "source": [
    "```mermaid \n",
    "flowchar TD\n",
    "t1\n",
    "```"
   ]
  }
 ],
 "metadata": {
  "kernelspec": {
   "display_name": "Python 3",
   "language": "python",
   "name": "python3"
  },
  "language_info": {
   "codemirror_mode": {
    "name": "ipython",
    "version": 3
   },
   "file_extension": ".py",
   "mimetype": "text/x-python",
   "name": "python",
   "nbconvert_exporter": "python",
   "pygments_lexer": "ipython3",
   "version": "3.12.10"
  }
 },
 "nbformat": 4,
 "nbformat_minor": 5
}
