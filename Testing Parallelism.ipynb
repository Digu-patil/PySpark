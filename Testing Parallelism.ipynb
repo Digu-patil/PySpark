{
 "cells": [
  {
   "cell_type": "markdown",
   "id": "382b2c49",
   "metadata": {},
   "source": [
    "## Testing Heavy Opearations on Spark\n",
    "\n",
    "- As we understood basics of spark in the \"Spark Basics\" notebook\n",
    "- Lets no look at an example and observe how spark is actually working."
   ]
  },
  {
   "cell_type": "code",
   "execution_count": 2,
   "id": "0d465ae7",
   "metadata": {},
   "outputs": [
    {
     "name": "stdout",
     "output_type": "stream",
     "text": [
      "3.5.5\n"
     ]
    }
   ],
   "source": [
    "# Importing Spark\n",
    "from pyspark.sql import SparkSession\n",
    "\n",
    "# Creating a spark session\n",
    "spark = SparkSession.builder \\\n",
    "        .appName(\"Heavy Testing\") \\\n",
    "        .getOrCreate()\n",
    "\n",
    "# Creating SparkContext\n",
    "sc = spark.sparkContext\n",
    "\n",
    "print(sc.version)\n"
   ]
  },
  {
   "cell_type": "code",
   "execution_count": 18,
   "id": "4f506d6f",
   "metadata": {},
   "outputs": [
    {
     "name": "stdout",
     "output_type": "stream",
     "text": [
      "+----------------------+-----+\n",
      "|business_id           |count|\n",
      "+----------------------+-----+\n",
      "|_ab50qdWOk0DdB6XOrBitw|5982 |\n",
      "|ac1AeYqs8Z4_e2X5M3if2A|5865 |\n",
      "|GXFMD0Z4jEVZBCsbPf4CTQ|5425 |\n",
      "|ytynqOUb3hjKeJfRj5Tshw|5380 |\n",
      "|oBNrLz4EDhiscSlbOl8uAw|4369 |\n",
      "|_C7QiQQc47AOEv4PE3Kong|4008 |\n",
      "|GBTPC53ZrG1ZBY3DT8Mbcw|3726 |\n",
      "|I_3LMZ_1m2mzR0oLIOePIg|3575 |\n",
      "|6a4gLLFSgr-Q6CZXDLzBGQ|3567 |\n",
      "|gTC8IQ_i8zXytWSly3Ttvg|3538 |\n",
      "+----------------------+-----+\n",
      "only showing top 10 rows\n",
      "\n"
     ]
    }
   ],
   "source": [
    "# Lets create a RDD of 10 million numbers\n",
    "\n",
    "df = spark.read.json(\"C:\\\\Users\\\\imdig\\\\Desktop\\\\Kaggle Datasets\\\\Yelp Data\\\\yelp_academic_dataset_review.json\")\n",
    "\n",
    "# Performing the actual heavy operation\n",
    "\n",
    "df2 = df.select(\"user_id\",\"business_id\",\"stars\",\"date\") \\\n",
    "        .filter(df.stars >=4) \\\n",
    "        .groupBy(\"business_id\") \\\n",
    "        .count() \\\n",
    "        .orderBy(\"count\",ascending = False)\n",
    "\n",
    "df2.show(10, truncate = False)"
   ]
  },
  {
   "cell_type": "code",
   "execution_count": 19,
   "id": "c608f2b3",
   "metadata": {},
   "outputs": [],
   "source": [
    "spark.stop()"
   ]
  },
  {
   "cell_type": "code",
   "execution_count": null,
   "id": "472c48fc",
   "metadata": {},
   "outputs": [],
   "source": []
  }
 ],
 "metadata": {
  "kernelspec": {
   "display_name": "Python 3",
   "language": "python",
   "name": "python3"
  },
  "language_info": {
   "codemirror_mode": {
    "name": "ipython",
    "version": 3
   },
   "file_extension": ".py",
   "mimetype": "text/x-python",
   "name": "python",
   "nbconvert_exporter": "python",
   "pygments_lexer": "ipython3",
   "version": "3.12.10"
  }
 },
 "nbformat": 4,
 "nbformat_minor": 5
}
