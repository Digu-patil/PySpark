{
 "cells": [
  {
   "cell_type": "markdown",
   "id": "9fd971f5",
   "metadata": {},
   "source": [
    "## Transformation\n",
    "\n",
    "- It is an operation that creates a new RDD/Dataframe from an existing one\n",
    "- It is lazy and does not compute immediately until we call an action like .show() or .count()\n",
    "\n",
    "### Wide vs Narrow Transforamtion\n",
    "|                    | Wide                  | Narrow     |\n",
    "|--------------------|-----------------------|------------|\n",
    "|Data Shuffling      |Yes - Across Parititons| No         |\n",
    "|Speed               |Slower                 | Faster     |\n",
    "|Partition Dependency|Many to Many           | 1 to 1     |\n",
    "|Introvert/Extrovert |Extrovert              | Introvert  |\n",
    "|Example             | joins, groupBy        | map, filter|"
   ]
  },
  {
   "cell_type": "markdown",
   "id": "4926b34d",
   "metadata": {},
   "source": [
    "## Wide Transformation\n",
    "\n",
    "- The Driver partitions the data and assigns jobs to multiple executors\n",
    "- Wide Transformations are those where the executors need to communicate to each other to provide the necessary output\n",
    "- This communication between the executors is called as \"SHUFFLE\"\n",
    "- Shuffle is the most expensive operation in spark."
   ]
  },
  {
   "cell_type": "code",
   "execution_count": 14,
   "id": "423d636a",
   "metadata": {},
   "outputs": [
    {
     "name": "stdout",
     "output_type": "stream",
     "text": [
      "3.5.5\n",
      "+--------------------+----+-------------------+-----+--------------------+-----+--------------------+------+--------------------+\n",
      "|         business_id|cool|               date|funny|           review_id|stars|                text|useful|             user_id|\n",
      "+--------------------+----+-------------------+-----+--------------------+-----+--------------------+------+--------------------+\n",
      "|XQfwVwDr-v0ZS3_Cb...|   0|2018-07-07 22:09:11|    0|KU_O5udG6zpxOg-Vc...|  3.0|If you decide to ...|     0|mh_-eMZ6K5RLWhZyI...|\n",
      "|7ATYjTIgM3jUlt4UM...|   1|2012-01-03 15:28:18|    0|BiTunyQ73aT9WBnpR...|  5.0|I've taken a lot ...|     1|OyoGAe7OKpv6SyGZT...|\n",
      "|YjUWPpI6HXG530lwP...|   0|2014-02-05 20:30:30|    0|saUsX_uimxRlCVr67...|  3.0|Family diner. Had...|     0|8g_iMtfSiwikVnbP2...|\n",
      "|kxX2SOes4o-D3ZQBk...|   1|2015-01-04 00:01:03|    0|AqPFMleE6RsU23_au...|  5.0|Wow!  Yummy, diff...|     1|_7bHUi9Uuf5__HHc_...|\n",
      "|e4Vwtrqf-wpJfwesg...|   1|2017-01-14 20:54:15|    0|Sx8TMOWLNuJBWer-0...|  4.0|Cute interior and...|     1|bcjbaE6dDog4jkNY9...|\n",
      "+--------------------+----+-------------------+-----+--------------------+-----+--------------------+------+--------------------+\n",
      "only showing top 5 rows\n",
      "\n",
      "None\n"
     ]
    }
   ],
   "source": [
    "# Lets try to use group by to analyse wide transformation\n",
    "\n",
    "# Creating a spark sessions\n",
    "from pyspark.sql import SparkSession\n",
    "\n",
    "sp = SparkSession.builder\\\n",
    "    .appName(\"Wide Transformation\")\\\n",
    "    .getOrCreate()\n",
    "\n",
    "print(sp.version)\n",
    "\n",
    "# Reading Data from a json file into a datafram\n",
    "dataset_review = sp.read.json(\"C:\\\\Users\\\\imdig\\\\Desktop\\\\Kaggle Datasets\\\\Yelp Data\\\\yelp_academic_dataset_review.json\")\n",
    "\n",
    "print(dataset_review.show(5))"
   ]
  },
  {
   "cell_type": "code",
   "execution_count": null,
   "id": "fa89fabb",
   "metadata": {},
   "outputs": [
    {
     "name": "stdout",
     "output_type": "stream",
     "text": [
      "+-----+-------+\n",
      "|stars|  count|\n",
      "+-----+-------+\n",
      "|  5.0|3231627|\n",
      "|  4.0|1452918|\n",
      "|  1.0|1069561|\n",
      "|  3.0| 691934|\n",
      "|  2.0| 544240|\n",
      "+-----+-------+\n",
      "\n"
     ]
    }
   ],
   "source": [
    "# Remember whenever we are doing any kind of transformation it will create a new dataframe/RDD\n",
    "\n",
    "# Questions - Pull count of users by each star rating\n",
    "dataset_review_stars_grouping = dataset_review.select(\"stars\",\"user_id\")\\\n",
    "                                                .groupBy(\"stars\")\\\n",
    "                                                .count()\\\n",
    "                                                .orderBy(\"count\",ascending = False)\n",
    "\n",
    "dataset_review_stars_grouping.show()"
   ]
  },
  {
   "cell_type": "code",
   "execution_count": 15,
   "id": "e42e7d59",
   "metadata": {},
   "outputs": [
    {
     "name": "stdout",
     "output_type": "stream",
     "text": [
      "+-------------+---------------+---------------+----------------+--------------+---------------+---------------+---------------+-----------------+----------------+------------------+-----------------+-----+--------------------+----+--------------------+-----+------+------------+------+--------------------+-------------------+\n",
      "|average_stars|compliment_cool|compliment_cute|compliment_funny|compliment_hot|compliment_list|compliment_more|compliment_note|compliment_photos|compliment_plain|compliment_profile|compliment_writer| cool|               elite|fans|             friends|funny|  name|review_count|useful|             user_id|      yelping_since|\n",
      "+-------------+---------------+---------------+----------------+--------------+---------------+---------------+---------------+-----------------+----------------+------------------+-----------------+-----+--------------------+----+--------------------+-----+------+------------+------+--------------------+-------------------+\n",
      "|         3.91|            467|             56|             467|           250|             18|             65|            232|              180|             844|                55|              239| 5994|                2007| 267|NSCy54eWehBJyZdG2...| 1259|Walker|         585|  7217|qVc8ODYU5SZjKXVBg...|2007-01-25 16:47:26|\n",
      "|         3.74|           3131|            157|            3131|          1145|            251|            264|           1847|             1946|            7054|               184|             1521|27281|2009,2010,2011,20...|3138|ueRPE0CX75ePGMqOF...|13066|Daniel|        4333| 43091|j14WgRoU_-2ZE1aw1...|2009-01-25 04:35:42|\n",
      "|         3.32|            119|             17|             119|            89|              3|             13|             66|               18|              96|                10|               35| 1003|2009,2010,2011,20...|  52|LuO3Bn4f3rlhyHIaN...| 1010| Steph|         665|  2086|2WnXYQFK0hXEoTxPt...|2008-07-25 10:41:00|\n",
      "|         4.27|             26|              6|              26|            24|              2|              4|             12|                9|              16|                 1|               10|  299|      2009,2010,2011|  28|enx1vVPnfdNUdPho6...|  330|  Gwen|         224|   512|SZDeASXq7o05mMNLs...|2005-11-29 04:38:33|\n",
      "|         3.54|              0|              0|               0|             1|              0|              1|              1|                0|               1|                 0|                0|    7|                    |   1|PBK4q9KEEBHhFvSXC...|   15| Karen|          79|    29|hA5lMy-EnncsH4JoR...|2007-01-05 19:40:59|\n",
      "+-------------+---------------+---------------+----------------+--------------+---------------+---------------+---------------+-----------------+----------------+------------------+-----------------+-----+--------------------+----+--------------------+-----+------+------------+------+--------------------+-------------------+\n",
      "only showing top 5 rows\n",
      "\n"
     ]
    }
   ],
   "source": [
    "# Lets do a join as well and then try to do some aggregations\n",
    "\n",
    "dataset_user = sp.read.json(\"C:\\\\Users\\\\imdig\\\\Desktop\\\\Kaggle Datasets\\\\Yelp Data\\\\yelp_academic_dataset_user.json\")\n",
    "\n",
    "dataset_user.show(5)"
   ]
  },
  {
   "cell_type": "code",
   "execution_count": 36,
   "id": "ee1d5af5",
   "metadata": {},
   "outputs": [
    {
     "name": "stdout",
     "output_type": "stream",
     "text": [
      "+--------------------+-----+-----+\n",
      "|             user_id| name|count|\n",
      "+--------------------+-----+-----+\n",
      "|_BcWyKQL16ndpBdgg...|Karen| 3048|\n",
      "+--------------------+-----+-----+\n",
      "\n"
     ]
    }
   ],
   "source": [
    "# Lets try to get the username who gave more reviews\n",
    "\n",
    "\n",
    "most_review_by_user = dataset_review.join(dataset_user, on = \"user_id\", how = \"inner\")\\\n",
    "                                  .select(\"user_id\",\"name\",\"stars\")\\\n",
    "                                  .groupBy(\"user_id\",\"name\")\\\n",
    "                                  .count()\\\n",
    "                                  .orderBy(\"count\",ascending = False)\\\n",
    "                                  .limit(1)\n",
    "\n",
    "most_review_by_user.show()"
   ]
  },
  {
   "cell_type": "code",
   "execution_count": 41,
   "id": "12c91f19",
   "metadata": {},
   "outputs": [
    {
     "name": "stdout",
     "output_type": "stream",
     "text": [
      "+-----+-----+-----+-----+\n",
      "| name|count|stars|count|\n",
      "+-----+-----+-----+-----+\n",
      "|Karen| 3048|  4.0| 1443|\n",
      "|Karen| 3048|  2.0|  265|\n",
      "|Karen| 3048|  1.0|   68|\n",
      "|Karen| 3048|  5.0|  451|\n",
      "|Karen| 3048|  3.0|  821|\n",
      "+-----+-----+-----+-----+\n",
      "\n"
     ]
    }
   ],
   "source": [
    "# We got our most valuable customer above\n",
    "# also lets try to look how the reviews were distributed across starts for the valuable customer\n",
    "\n",
    "val_cust_start_distribution = most_review_by_user.join(dataset_review, on = \"user_id\", how = \"inner\")\\\n",
    "                                               .select(\"name\",\"stars\",\"count\")\\\n",
    "                                               .groupBy(\"name\",\"count\",\"stars\")\\\n",
    "                                               .count()\\\n",
    "                                               .orderBy(\"count\",ascending= False)\n",
    "\n",
    "val_cust_start_distribution.show()"
   ]
  },
  {
   "cell_type": "code",
   "execution_count": 42,
   "id": "5196aa50",
   "metadata": {},
   "outputs": [],
   "source": [
    "sp.stop()"
   ]
  }
 ],
 "metadata": {
  "kernelspec": {
   "display_name": "Python 3",
   "language": "python",
   "name": "python3"
  },
  "language_info": {
   "codemirror_mode": {
    "name": "ipython",
    "version": 3
   },
   "file_extension": ".py",
   "mimetype": "text/x-python",
   "name": "python",
   "nbconvert_exporter": "python",
   "pygments_lexer": "ipython3",
   "version": "3.12.10"
  }
 },
 "nbformat": 4,
 "nbformat_minor": 5
}
